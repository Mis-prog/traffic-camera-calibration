{
 "cells": [
  {
   "cell_type": "code",
   "execution_count": 1,
   "id": "617987a4-7d0a-49db-810d-0837abbc6b06",
   "metadata": {},
   "outputs": [],
   "source": [
    "from point import Point\n",
    "from camera import Camera\n",
    "from optimizetion import Optimizer\n",
    "from initsolution import calc_init_camera\n",
    "from plot import Plot"
   ]
  },
  {
   "cell_type": "markdown",
   "id": "94ccccc4-22c7-4596-893c-c200f1c50ce2",
   "metadata": {},
   "source": [
    "## Вычисление начальных значений"
   ]
  },
  {
   "cell_type": "code",
   "execution_count": 2,
   "id": "c752b122-7c87-4428-b266-ad553c88116b",
   "metadata": {},
   "outputs": [],
   "source": [
    "Line_Y = [[[786, 689], [281, 515]], [[1061, 516], [213, 340]], [[1008, 421], [375, 311]], [[355, 264], [70, 238]],\n",
    "          [[362, 223], [73, 211]]]\n",
    "Line_X = [[[300, 513], [555, 185]], [[835, 677], [927, 264]], [[674, 117], [740, 13]], [[833, 192], [842, 158]],\n",
    "          [[954, 142], [954, 38]]]\n",
    "camera = calc_init_camera('../data/scene_from_crossroads_not_dist.png', [Line_X, Line_Y])"
   ]
  },
  {
   "cell_type": "markdown",
   "id": "c484bda8-063b-45b2-8d6d-39ac761723af",
   "metadata": {},
   "source": [
    "## Калибровка камеры"
   ]
  },
  {
   "cell_type": "code",
   "execution_count": 3,
   "id": "4890565a-35f4-43fc-b9b8-550ec8d9b91d",
   "metadata": {},
   "outputs": [],
   "source": [
    "lines = [\n",
    "    [[831, 689, 1, 7.71, 0, 0, 1],\n",
    "     [299, 520, 1, 7.71, 20.7, 0, 1]],\n",
    "    [[1007, 425, 1, 18.9, 0, 0, 1],\n",
    "     [439, 322, 1, 18.9, 20.7, 0, 1]],\n",
    "    [[927, 267, 1, 31.9, 0, 0, 1],\n",
    "     [553, 189, 1, 31.9, 20.7, 0, 1]],\n",
    "    [[890, 478, 1, 15.09, 0, 0, 1],\n",
    "     [397, 379, 1, 15.09, 20.7, 0, 1]],\n",
    "    [[300, 515, 1, 7.71, 20.7, 0, 1],\n",
    "     [557, 183, 1, 31.9, 20.7, 0, 1]]\n",
    "]\n",
    "\n",
    "lines_from_Point = []\n",
    "for line in lines:\n",
    "    start_point, end_point = line\n",
    "    start_point = Point.from_combined(start_point)\n",
    "    end_point = Point.from_combined(end_point)\n",
    "    lines_from_Point.append([start_point, end_point])"
   ]
  },
  {
   "cell_type": "code",
   "execution_count": 4,
   "id": "b8474deb-818a-480b-a1c6-d690bcdf5b84",
   "metadata": {},
   "outputs": [
    {
     "name": "stdout",
     "output_type": "stream",
     "text": [
      "Углы поворота начальные : [-179.99804815    0.2766963  -179.66690061]\n",
      "Фокусное расстояние начальные: 930.6597847388759\n",
      "Вектор переноса начальный: [1 0 0]\n"
     ]
    }
   ],
   "source": [
    "print(f'Углы поворота начальные : {camera.get_R(angle_output=True)}')\n",
    "print(f'Фокусное расстояние начальные: {camera.get_f()}')\n",
    "print(f'Вектор переноса начальный: {camera.get_T()}')"
   ]
  },
  {
   "cell_type": "code",
   "execution_count": 5,
   "id": "a2393a7f-55bf-49da-aef4-6707c5ed8ecf",
   "metadata": {},
   "outputs": [],
   "source": [
    "optimize = Optimizer(camera)\n",
    "\n",
    "camera, info = optimize.optimize(lines_from_Point)"
   ]
  },
  {
   "cell_type": "code",
   "execution_count": 6,
   "id": "f480905a-2e54-47ff-965a-68de173bc2d3",
   "metadata": {},
   "outputs": [
    {
     "name": "stdout",
     "output_type": "stream",
     "text": [
      "Углы поворота оптимизированные : [-179.99804815    0.2766963  -179.66690061]\n",
      "Фокусное расстояние оптимизированное: 930.6597847388759\n",
      "Вектор переноса оптимизированный: [1 0 0]\n"
     ]
    }
   ],
   "source": [
    "print(f'Углы поворота оптимизированные : {camera.get_R(angle_output=True)}')\n",
    "print(f'Фокусное расстояние оптимизированное: {camera.get_f()}')\n",
    "print(f'Вектор переноса оптимизированный: {camera.get_T()}')"
   ]
  },
  {
   "cell_type": "code",
   "execution_count": 7,
   "id": "70cf2edb-4c55-42c5-8e82-ae28c61033e9",
   "metadata": {},
   "outputs": [],
   "source": [
    "import ipywidgets as widgets\n",
    "from ipywidgets import  interact\n",
    "plot = Plot(camera)\n",
    "\n",
    "def picking_params(f, alpha, beta, gamma, x, y, z):\n",
    "    return plot.draw_tranform_coord(lines_from_Point, out_jupyter=True, params=[f, alpha, beta, gamma, x, y ,z])"
   ]
  },
  {
   "cell_type": "code",
   "execution_count": 9,
   "id": "f5c50a10-9f2f-4417-9554-fba52406a4fd",
   "metadata": {},
   "outputs": [
    {
     "data": {
      "application/vnd.jupyter.widget-view+json": {
       "model_id": "3c93e2078d9d4b6dafd1b44f8a810900",
       "version_major": 2,
       "version_minor": 0
      },
      "text/plain": [
       "interactive(children=(IntSlider(value=800, description='f', max=1200, min=500), IntSlider(value=-90, descripti…"
      ]
     },
     "metadata": {},
     "output_type": "display_data"
    },
    {
     "data": {
      "text/plain": [
       "<function __main__.picking_params(f, alpha, beta, gamma, x, y, z)>"
      ]
     },
     "execution_count": 9,
     "metadata": {},
     "output_type": "execute_result"
    }
   ],
   "source": [
    "interact(picking_params,  \n",
    "         f=widgets.IntSlider(value=800, min=500, max=1200, step=1),  \n",
    "         alpha=widgets.IntSlider(value=-90, min=-180, max=180, step=1),  \n",
    "         beta=widgets.IntSlider(value=0, min=-180, max=180, step=1),  \n",
    "         gamma=widgets.IntSlider(value=-180, min=-180, max=180, step=1),  \n",
    "         x=widgets.IntSlider(value=15.1, min=0, max=40, step=1),  \n",
    "         y=widgets.IntSlider(value=0, min=0, max=40, step=1),  \n",
    "         z=widgets.IntSlider(value=30, min=0, max=40, step=1))"
   ]
  },
  {
   "cell_type": "code",
   "execution_count": null,
   "id": "491d4f20-c405-4d55-9cd3-33d178c9e3c2",
   "metadata": {},
   "outputs": [],
   "source": []
  },
  {
   "cell_type": "code",
   "execution_count": null,
   "id": "0eecf850-dd40-42b3-bd95-2acc21c95a2a",
   "metadata": {},
   "outputs": [],
   "source": []
  }
 ],
 "metadata": {
  "kernelspec": {
   "display_name": "Python 3 (ipykernel)",
   "language": "python",
   "name": "python3"
  },
  "language_info": {
   "codemirror_mode": {
    "name": "ipython",
    "version": 3
   },
   "file_extension": ".py",
   "mimetype": "text/x-python",
   "name": "python",
   "nbconvert_exporter": "python",
   "pygments_lexer": "ipython3",
   "version": "3.10.0"
  }
 },
 "nbformat": 4,
 "nbformat_minor": 5
}

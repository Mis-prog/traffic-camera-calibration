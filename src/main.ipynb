{
 "cells": [
  {
   "metadata": {
    "ExecuteTime": {
     "end_time": "2024-12-22T12:35:35.585481Z",
     "start_time": "2024-12-22T12:35:35.580220Z"
    }
   },
   "cell_type": "code",
   "source": [
    "from OpenGL.GL import *\n",
    "from OpenGL.GLU import *\n",
    "import numpy as np\n",
    "import time"
   ],
   "id": "135aef1b53d63e8a",
   "outputs": [],
   "execution_count": 9
  },
  {
   "metadata": {
    "ExecuteTime": {
     "end_time": "2024-12-22T12:35:38.059993Z",
     "start_time": "2024-12-22T12:35:38.046571Z"
    }
   },
   "cell_type": "code",
   "source": "window = None",
   "id": "1928692e7022fbca",
   "outputs": [],
   "execution_count": 10
  },
  {
   "metadata": {},
   "cell_type": "code",
   "source": "width, height = 800, 600",
   "id": "5e95a88352889bac",
   "outputs": [],
   "execution_count": 11
  },
  {
   "metadata": {
    "ExecuteTime": {
     "end_time": "2024-12-22T12:35:38.712402Z",
     "start_time": "2024-12-22T12:35:38.705286Z"
    }
   },
   "cell_type": "code",
   "source": [
    "def calculate_normals(surface):\n",
    "    normals = np.zeros_like(surface)\n",
    "    for i in range(1, surface.shape[0] - 1):\n",
    "        for j in range(1, surface.shape[1] - 1):\n",
    "            # Получаем соседние точки\n",
    "            p1 = surface[i + 1, j] - surface[i - 1, j]\n",
    "            p2 = surface[i, j + 1] - surface[i, j - 1]\n",
    "            normal = np.cross(p1, p2)\n",
    "            normals[i, j] = normal / np.linalg.norm(normal)\n",
    "    return normals\n"
   ],
   "id": "8350775e8796d83",
   "outputs": [],
   "execution_count": 12
  },
  {
   "metadata": {
    "ExecuteTime": {
     "end_time": "2024-12-22T12:35:39.254264Z",
     "start_time": "2024-12-22T12:35:39.249712Z"
    }
   },
   "cell_type": "code",
   "source": [
    "def generate_surface(size=20):\n",
    "    x = np.linspace(-1, 1, size)\n",
    "    y = np.linspace(-1, 1, size)\n",
    "    x, y = np.meshgrid(x, y)\n",
    "    z = np.sin(5 * np.sqrt(x**2 + y**2))\n",
    "    return np.stack([x, y, z], axis=-1)"
   ],
   "id": "e0ae6256bf0f9d78",
   "outputs": [],
   "execution_count": 13
  },
  {
   "metadata": {
    "ExecuteTime": {
     "end_time": "2024-12-22T12:35:39.772564Z",
     "start_time": "2024-12-22T12:35:39.758372Z"
    }
   },
   "cell_type": "code",
   "source": [
    "def display():\n",
    "    glClear(GL_COLOR_BUFFER_BIT | GL_DEPTH_BUFFER_BIT)\n",
    "    glLoadIdentity()\n",
    "    glTranslatef(0, 0, -5)\n",
    "    glRotatef(30, 1, 0, 0)\n",
    "\n",
    "    # Создание поверхности\n",
    "    surface = generate_surface()\n",
    "    normals = calculate_normals(surface)\n",
    "    \n",
    "    glColor3f(0.6, 0.8, 1.0)  # Цвет поверхности\n",
    "    glBegin(GL_QUADS)\n",
    "    for i in range(surface.shape[0] - 1):\n",
    "        for j in range(surface.shape[1] - 1):\n",
    "            for k in range(4):\n",
    "                x, y, z = surface[i + (k // 2), j + (k % 2)]\n",
    "                glVertex3f(x, y, z)\n",
    "    glEnd()\n",
    "    \n",
    "    # Отрисовка нормалей\n",
    "    glColor3f(1.0, 0.0, 0.0)  # Красные перпендикуляры\n",
    "    glBegin(GL_LINES)\n",
    "    for i in range(1, surface.shape[0] - 1):\n",
    "        for j in range(1, surface.shape[1] - 1):\n",
    "            start = surface[i, j]\n",
    "            normal = normals[i, j]\n",
    "            end = start + 0.1 * normal\n",
    "            glVertex3f(*start)\n",
    "            glVertex3f(*end)\n",
    "    glEnd()\n",
    "    \n",
    "    glutSwapBuffers()"
   ],
   "id": "f86f6146e1317cd0",
   "outputs": [],
   "execution_count": 14
  },
  {
   "metadata": {
    "ExecuteTime": {
     "end_time": "2024-12-22T12:35:40.358679Z",
     "start_time": "2024-12-22T12:35:40.341468Z"
    }
   },
   "cell_type": "code",
   "source": [
    "def init():\n",
    "    glEnable(GL_DEPTH_TEST)\n",
    "    glClearColor(0.0, 0.0, 0.0, 1.0)\n",
    "    glMatrixMode(GL_PROJECTION)\n",
    "    gluPerspective(45, width / height, 1, 50)\n",
    "    glMatrixMode(GL_MODELVIEW)\n",
    "\n",
    "# Основная функция\n",
    "def main():\n",
    "    global window\n",
    "    glutInit()\n",
    "    glutInitDisplayMode(GLUT_RGBA | GLUT_DOUBLE | GLUT_DEPTH)\n",
    "    glutInitWindowSize(width, height)\n",
    "    glutInitWindowPosition(100, 100)\n",
    "    window = glutCreateWindow(\"Перпендикуляры к поверхности\")\n",
    "    glutDisplayFunc(display)\n",
    "    init()\n",
    "    glutMainLoop()"
   ],
   "id": "c7144841f4575ab9",
   "outputs": [],
   "execution_count": 15
  },
  {
   "metadata": {
    "ExecuteTime": {
     "end_time": "2024-12-22T12:35:41.154409Z",
     "start_time": "2024-12-22T12:35:41.130014Z"
    }
   },
   "cell_type": "code",
   "source": "main()",
   "id": "ae3ed1d584c3a586",
   "outputs": [
    {
     "ename": "NameError",
     "evalue": "name 'glutInit' is not defined",
     "output_type": "error",
     "traceback": [
      "\u001B[1;31m---------------------------------------------------------------------------\u001B[0m",
      "\u001B[1;31mNameError\u001B[0m                                 Traceback (most recent call last)",
      "Cell \u001B[1;32mIn[16], line 1\u001B[0m\n\u001B[1;32m----> 1\u001B[0m \u001B[43mmain\u001B[49m\u001B[43m(\u001B[49m\u001B[43m)\u001B[49m\n",
      "Cell \u001B[1;32mIn[15], line 11\u001B[0m, in \u001B[0;36mmain\u001B[1;34m()\u001B[0m\n\u001B[0;32m      9\u001B[0m \u001B[38;5;28;01mdef\u001B[39;00m \u001B[38;5;21mmain\u001B[39m():\n\u001B[0;32m     10\u001B[0m     \u001B[38;5;28;01mglobal\u001B[39;00m window\n\u001B[1;32m---> 11\u001B[0m     \u001B[43mglutInit\u001B[49m()\n\u001B[0;32m     12\u001B[0m     glutInitDisplayMode(GLUT_RGBA \u001B[38;5;241m|\u001B[39m GLUT_DOUBLE \u001B[38;5;241m|\u001B[39m GLUT_DEPTH)\n\u001B[0;32m     13\u001B[0m     glutInitWindowSize(width, height)\n",
      "\u001B[1;31mNameError\u001B[0m: name 'glutInit' is not defined"
     ]
    }
   ],
   "execution_count": 16
  },
  {
   "metadata": {},
   "cell_type": "code",
   "outputs": [],
   "execution_count": null,
   "source": "",
   "id": "ae930d56ab5c5a47"
  }
 ],
 "metadata": {
  "kernelspec": {
   "display_name": "venv",
   "language": "python",
   "name": "python3"
  },
  "language_info": {
   "codemirror_mode": {
    "name": "ipython",
    "version": 3
   },
   "file_extension": ".py",
   "mimetype": "text/x-python",
   "name": "python",
   "nbconvert_exporter": "python",
   "pygments_lexer": "ipython3",
   "version": "3.10.0"
  }
 },
 "nbformat": 4,
 "nbformat_minor": 5
}

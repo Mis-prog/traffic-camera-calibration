{
 "cells": [
  {
   "cell_type": "code",
   "execution_count": 6,
   "id": "617987a4-7d0a-49db-810d-0837abbc6b06",
   "metadata": {},
   "outputs": [],
   "source": [
    "from point import Point\n",
    "from camera import Camera\n",
    "from optimizetion import Optimizer\n",
    "from initsolution import calc_init_camera\n",
    "from plot import Plot"
   ]
  },
  {
   "cell_type": "markdown",
   "id": "94ccccc4-22c7-4596-893c-c200f1c50ce2",
   "metadata": {},
   "source": [
    "## Вычисление начальных значений"
   ]
  },
  {
   "cell_type": "code",
   "execution_count": 11,
   "id": "c752b122-7c87-4428-b266-ad553c88116b",
   "metadata": {},
   "outputs": [],
   "source": [
    "Line_Y = [[[786, 689], [281, 515]], [[1061, 516], [213, 340]], [[1008, 421], [375, 311]], [[355, 264], [70, 238]],\n",
    "          [[362, 223], [73, 211]]]\n",
    "Line_X = [[[300, 513], [555, 185]], [[835, 677], [927, 264]], [[674, 117], [740, 13]], [[833, 192], [842, 158]],\n",
    "          [[954, 142], [954, 38]]]\n",
    "camera = calc_init_camera('../data/scene_from_crossroads_not_dist.png', [Line_X, Line_Y])"
   ]
  },
  {
   "cell_type": "markdown",
   "id": "c484bda8-063b-45b2-8d6d-39ac761723af",
   "metadata": {},
   "source": [
    "## Калибровка камеры"
   ]
  },
  {
   "cell_type": "code",
   "execution_count": 12,
   "id": "4890565a-35f4-43fc-b9b8-550ec8d9b91d",
   "metadata": {},
   "outputs": [],
   "source": [
    "lines = [\n",
    "    [[831, 689, 1, 7.71, 0, 0, 1],\n",
    "     [299, 520, 1, 7.71, 20.7, 0, 1]],\n",
    "    [[1007, 425, 1, 18.9, 0, 0, 1],\n",
    "     [439, 322, 1, 18.9, 20.7, 0, 1]],\n",
    "    [[927, 267, 1, 31.9, 0, 0, 1],\n",
    "     [553, 189, 1, 31.9, 20.7, 0, 1]],\n",
    "    [[890, 478, 1, 15.09, 0, 0, 1],\n",
    "     [397, 379, 1, 15.09, 20.7, 0, 1]],\n",
    "    [[300, 515, 1, 7.71, 20.7, 0, 1],\n",
    "     [557, 183, 1, 31.9, 20.7, 0, 1]]\n",
    "]\n",
    "\n",
    "lines_from_Point = []\n",
    "for line in lines:\n",
    "    start_point, end_point = line\n",
    "    start_point = Point.from_combined(start_point)\n",
    "    end_point = Point.from_combined(end_point)\n",
    "    lines_from_Point.append([start_point, end_point])"
   ]
  },
  {
   "cell_type": "code",
   "execution_count": 14,
   "id": "a2393a7f-55bf-49da-aef4-6707c5ed8ecf",
   "metadata": {},
   "outputs": [
    {
     "data": {
      "text/plain": [
       "     message: The maximum number of function evaluations is exceeded.\n",
       "     success: False\n",
       "      status: 0\n",
       "         fun: [ 8.659e+02  5.297e+02  4.265e+02  5.493e+02  2.113e+02]\n",
       "           x: [ 7.412e+02  2.587e+01 -3.286e+01 -6.467e+00  3.017e+00]\n",
       "        cost: 779297.0586383854\n",
       "         jac: [[-4.158e-01  1.350e+01 ...  9.343e+00  2.852e+01]\n",
       "               [ 5.419e-01 -1.426e+01 ... -1.321e+01 -1.462e+01]\n",
       "               ...\n",
       "               [ 2.788e-02  1.655e+00 ...  2.332e+00  2.010e-01]\n",
       "               [ 6.389e-01  1.215e+00 ...  1.376e+01 -1.130e+01]]\n",
       "        grad: [ 5.682e+02  2.129e+02 -2.146e+02  8.379e+01  5.586e+02]\n",
       "  optimality: 568.2275056414136\n",
       " active_mask: [0 0 0 0 0]\n",
       "        nfev: 3005\n",
       "        njev: None"
      ]
     },
     "execution_count": 14,
     "metadata": {},
     "output_type": "execute_result"
    }
   ],
   "source": [
    "optimize = Optimizer(camera)\n",
    "\n",
    "camera, info = optimize.optimize(lines_from_Point)\n",
    "info"
   ]
  },
  {
   "cell_type": "code",
   "execution_count": 15,
   "id": "22394513-edda-4ac8-810b-7f148774fdbf",
   "metadata": {},
   "outputs": [],
   "source": [
    "points_evalution = []\n",
    "coords = [[8, 0, 0, 1], [8, 20, 0, 1], [28, 20, 0, 1], [28, 0, 0, 1], [8, 0, 0, 1]]\n",
    "\n",
    "for value in coords:\n",
    "    points_evalution.append(Point.from_only_real(value))"
   ]
  },
  {
   "cell_type": "code",
   "execution_count": 16,
   "id": "70cf2edb-4c55-42c5-8e82-ae28c61033e9",
   "metadata": {},
   "outputs": [],
   "source": [
    "plot = Plot(camera)\n",
    "plot.draw_tranform_coord(points_evalution)"
   ]
  },
  {
   "cell_type": "code",
   "execution_count": null,
   "id": "f5c50a10-9f2f-4417-9554-fba52406a4fd",
   "metadata": {},
   "outputs": [],
   "source": []
  }
 ],
 "metadata": {
  "kernelspec": {
   "display_name": "Python 3 (ipykernel)",
   "language": "python",
   "name": "python3"
  },
  "language_info": {
   "codemirror_mode": {
    "name": "ipython",
    "version": 3
   },
   "file_extension": ".py",
   "mimetype": "text/x-python",
   "name": "python",
   "nbconvert_exporter": "python",
   "pygments_lexer": "ipython3",
   "version": "3.10.0"
  }
 },
 "nbformat": 4,
 "nbformat_minor": 5
}

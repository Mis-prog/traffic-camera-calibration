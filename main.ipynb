{
 "cells": [
  {
   "cell_type": "code",
   "execution_count": 2,
   "id": "617987a4-7d0a-49db-810d-0837abbc6b06",
   "metadata": {},
   "outputs": [],
   "source": [
    "from src.point2D import Point2D\n",
    "from src.point3D import Point3D\n",
    "from src.camera_model import Camera\n",
    "from src.optimizetion import Optimizer\n",
    "from src.initsolution import calc_init_camera\n",
    "from src.plot import Plot"
   ]
  },
  {
   "cell_type": "markdown",
   "id": "94ccccc4-22c7-4596-893c-c200f1c50ce2",
   "metadata": {},
   "source": [
    "## Вычисление начальных значений"
   ]
  },
  {
   "cell_type": "code",
   "execution_count": 4,
   "id": "c752b122-7c87-4428-b266-ad553c88116b",
   "metadata": {},
   "outputs": [],
   "source": [
    "Line_Y = [[[786, 689], [281, 515]], [[1061, 516], [213, 340]], [[1008, 421], [375, 311]], [[355, 264], [70, 238]],\n",
    "          [[362, 223], [73, 211]]]\n",
    "Line_X = [[[300, 513], [555, 185]], [[835, 677], [927, 264]], [[674, 117], [740, 13]], [[833, 192], [842, 158]],\n",
    "          [[954, 142], [954, 38]]]\n",
    "camera = calc_init_camera('data/scene_from_crossroads_not_dist.png', [Line_X, Line_Y])"
   ]
  },
  {
   "cell_type": "markdown",
   "id": "c484bda8-063b-45b2-8d6d-39ac761723af",
   "metadata": {},
   "source": [
    "## Калибровка камеры"
   ]
  },
  {
   "cell_type": "code",
   "execution_count": 26,
   "id": "4890565a-35f4-43fc-b9b8-550ec8d9b91d",
   "metadata": {},
   "outputs": [],
   "source": [
    "lines_calib = [\n",
    "    [[831, 689, 7.71, 0, 0],\n",
    "     [299, 520, 7.71, 20.7, 0]],\n",
    "    [[896, 405, 18.9, 0, 0],\n",
    "     [439, 322, 18.9, 20.7, 0]],\n",
    "    [[927, 267, 31.9, 0, 0],\n",
    "     [553, 189, 31.9, 20.7, 0]],\n",
    "    [[890, 478, 15.09, 0, 0],\n",
    "     [397, 379, 15.09, 20.7, 0]],\n",
    "    [[300, 515, 7.71, 20.7, 0],\n",
    "     [557, 180, 31.9, 20.7, 0]]\n",
    "]\n",
    "\n",
    "lines_prep = []\n",
    "for line in lines_calib:\n",
    "    start, end = line\n",
    "    start2D, start3D = Point2D.from_homogeneous(start[0:2]), Point3D.from_homogeneous(start[2:6])\n",
    "    end2D, end3D = Point2D.from_homogeneous(end[0:2]), Point3D.from_homogeneous(end[2:6])\n",
    "\n",
    "    lines_prep.append([(start2D, start3D), (end2D, end3D)])"
   ]
  },
  {
   "cell_type": "code",
   "execution_count": 27,
   "id": "a2393a7f-55bf-49da-aef4-6707c5ed8ecf",
   "metadata": {},
   "outputs": [],
   "source": [
    "optimize = Optimizer(camera)\n",
    "\n",
    "camera, info = optimize.optimize(lines_prep)"
   ]
  },
  {
   "cell_type": "code",
   "execution_count": 7,
   "id": "f480905a-2e54-47ff-965a-68de173bc2d3",
   "metadata": {},
   "outputs": [
    {
     "name": "stdout",
     "output_type": "stream",
     "text": [
      "Углы поворота оптимизированные : [ -99.58434695   37.91236625 -167.6947188 ]\n",
      "Фокусное расстояние оптимизированное: 931.4576315372068\n",
      "Вектор переноса оптимизированный: [ 0.          0.         31.72150652]\n"
     ]
    }
   ],
   "source": [
    "print(f'Углы поворота оптимизированные : {camera.get_R(angle_output=True)}')\n",
    "print(f'Фокусное расстояние оптимизированное: {camera.get_f()}')\n",
    "print(f'Вектор переноса оптимизированный: {camera.get_T()}')"
   ]
  },
  {
   "cell_type": "code",
   "execution_count": 28,
   "id": "70cf2edb-4c55-42c5-8e82-ae28c61033e9",
   "metadata": {},
   "outputs": [],
   "source": [
    "import ipywidgets as widgets\n",
    "from ipywidgets import  interact\n",
    "plot = Plot(camera)\n",
    "\n",
    "def picking_params(f, alpha, beta, gamma, x, y, z):\n",
    "    return plot.draw_tranform_line(lines_prep, out_jupyter=True, params=[f, alpha, beta, gamma, x, y ,z])"
   ]
  },
  {
   "cell_type": "code",
   "execution_count": 29,
   "id": "f5c50a10-9f2f-4417-9554-fba52406a4fd",
   "metadata": {},
   "outputs": [
    {
     "data": {
      "application/vnd.jupyter.widget-view+json": {
       "model_id": "242ab04c466642ca8781babf85f2a131",
       "version_major": 2,
       "version_minor": 0
      },
      "text/plain": [
       "interactive(children=(IntSlider(value=915, description='f', max=1200, min=500, step=0), IntSlider(value=0, des…"
      ]
     },
     "metadata": {},
     "output_type": "display_data"
    },
    {
     "data": {
      "text/plain": [
       "<function __main__.picking_params(f, alpha, beta, gamma, x, y, z)>"
      ]
     },
     "execution_count": 29,
     "metadata": {},
     "output_type": "execute_result"
    }
   ],
   "source": [
    "interact(picking_params,  \n",
    "         f=widgets.IntSlider(value=915, min=500, max=1200, step=0.1),  \n",
    "         alpha=widgets.IntSlider(value=0, min=-360, max=360, step=0.1),  \n",
    "         beta=widgets.IntSlider(value=0, min=-360, max=360, step=0.1),  \n",
    "         gamma=widgets.IntSlider(value=0, min=-360, max=360, step=0.1),  \n",
    "         x=widgets.IntSlider(value=5, min=0, max=40, step=0.1),  \n",
    "         y=widgets.IntSlider(value=0, min=0, max=40, step=0.1),  \n",
    "         z=widgets.IntSlider(value=25, min=0, max=40, step=0.1))"
   ]
  },
  {
   "cell_type": "code",
   "execution_count": null,
   "id": "491d4f20-c405-4d55-9cd3-33d178c9e3c2",
   "metadata": {},
   "outputs": [],
   "source": []
  },
  {
   "cell_type": "code",
   "execution_count": null,
   "id": "0eecf850-dd40-42b3-bd95-2acc21c95a2a",
   "metadata": {},
   "outputs": [],
   "source": []
  }
 ],
 "metadata": {
  "kernelspec": {
   "display_name": "Python 3 (ipykernel)",
   "language": "python",
   "name": "python3"
  },
  "language_info": {
   "codemirror_mode": {
    "name": "ipython",
    "version": 3
   },
   "file_extension": ".py",
   "mimetype": "text/x-python",
   "name": "python",
   "nbconvert_exporter": "python",
   "pygments_lexer": "ipython3",
   "version": "3.10.0"
  }
 },
 "nbformat": 4,
 "nbformat_minor": 5
}
